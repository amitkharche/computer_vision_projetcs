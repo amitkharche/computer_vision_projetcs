{
 "cells": [
  {
   "cell_type": "markdown",
   "id": "e45d6d35",
   "metadata": {},
   "source": [
    "# 🧪 Defect Detection in Manufacturing\n",
    "This notebook trains a CNN model to classify images as defective or non-defective."
   ]
  },
  {
   "cell_type": "code",
   "execution_count": null,
   "id": "716dbca6",
   "metadata": {},
   "outputs": [],
   "source": [
    "import os\n",
    "import pandas as pd\n",
    "import numpy as np\n",
    "import tensorflow as tf\n",
    "import matplotlib.pyplot as plt\n",
    "from sklearn.model_selection import train_test_split\n",
    "from sklearn.metrics import classification_report\n",
    "from tensorflow.keras.preprocessing.image import ImageDataGenerator\n",
    "from tensorflow.keras.models import Sequential\n",
    "from tensorflow.keras.layers import Conv2D, MaxPooling2D, Flatten, Dense, Dropout\n",
    "import pickle\n"
   ]
  },
  {
   "cell_type": "markdown",
   "id": "cce99ae6",
   "metadata": {},
   "source": [
    "## 📥 Load CSV Metadata"
   ]
  },
  {
   "cell_type": "code",
   "execution_count": null,
   "id": "d534a723",
   "metadata": {},
   "outputs": [],
   "source": [
    "df = pd.read_csv(\"data/image_labels.csv\")\n",
    "df[\"label\"] = df[\"label\"].map({\"defective\": 1, \"non-defective\": 0})\n",
    "df.head()\n"
   ]
  },
  {
   "cell_type": "markdown",
   "id": "7988bb3d",
   "metadata": {},
   "source": [
    "## 🔄 Image Generators for Training/Validation"
   ]
  },
  {
   "cell_type": "code",
   "execution_count": null,
   "id": "418f8f01",
   "metadata": {},
   "outputs": [],
   "source": [
    "IMG_SIZE = (64, 64)\n",
    "BATCH_SIZE = 4\n",
    "\n",
    "train_df, val_df = train_test_split(df, test_size=0.2, stratify=df[\"label\"], random_state=42)\n",
    "\n",
    "train_gen = ImageDataGenerator(rescale=1./255)\n",
    "val_gen = ImageDataGenerator(rescale=1./255)\n",
    "\n",
    "train_data = train_gen.flow_from_dataframe(train_df, directory=\".\", x_col=\"image_path\", y_col=\"label\",\n",
    "                                           target_size=IMG_SIZE, batch_size=BATCH_SIZE, class_mode='binary')\n",
    "\n",
    "val_data = val_gen.flow_from_dataframe(val_df, directory=\".\", x_col=\"image_path\", y_col=\"label\",\n",
    "                                       target_size=IMG_SIZE, batch_size=BATCH_SIZE, class_mode='binary')\n"
   ]
  },
  {
   "cell_type": "markdown",
   "id": "253f2f2b",
   "metadata": {},
   "source": [
    "## 🧠 Build and Train CNN Model"
   ]
  },
  {
   "cell_type": "code",
   "execution_count": null,
   "id": "9366f984",
   "metadata": {},
   "outputs": [],
   "source": [
    "model = Sequential([\n",
    "    Conv2D(32, (3,3), activation='relu', input_shape=(*IMG_SIZE, 3)),\n",
    "    MaxPooling2D(2,2),\n",
    "    Conv2D(64, (3,3), activation='relu'),\n",
    "    MaxPooling2D(2,2),\n",
    "    Flatten(),\n",
    "    Dense(64, activation='relu'),\n",
    "    Dropout(0.5),\n",
    "    Dense(1, activation='sigmoid')\n",
    "])\n",
    "\n",
    "model.compile(optimizer='adam', loss='binary_crossentropy', metrics=['accuracy'])\n",
    "\n",
    "history = model.fit(train_data, validation_data=val_data, epochs=5)\n"
   ]
  },
  {
   "cell_type": "markdown",
   "id": "ae37e34f",
   "metadata": {},
   "source": [
    "## 📊 Evaluate Model"
   ]
  },
  {
   "cell_type": "code",
   "execution_count": null,
   "id": "32854f45",
   "metadata": {},
   "outputs": [],
   "source": [
    "val_data.reset()\n",
    "y_true = val_data.classes\n",
    "y_pred = model.predict(val_data).flatten()\n",
    "y_pred = np.where(y_pred > 0.5, 1, 0)\n",
    "\n",
    "print(classification_report(y_true, y_pred))\n"
   ]
  },
  {
   "cell_type": "markdown",
   "id": "ae41d08a",
   "metadata": {},
   "source": [
    "## 💾 Save Model and Class Indices"
   ]
  },
  {
   "cell_type": "code",
   "execution_count": null,
   "id": "6c17fcdc",
   "metadata": {},
   "outputs": [],
   "source": [
    "os.makedirs(\"model\", exist_ok=True)\n",
    "model.save(\"model/cnn_defect_model.h5\")\n",
    "with open(\"model/class_map.pkl\", \"wb\") as f:\n",
    "    pickle.dump(train_data.class_indices, f)\n"
   ]
  }
 ],
 "metadata": {},
 "nbformat": 4,
 "nbformat_minor": 5
}
