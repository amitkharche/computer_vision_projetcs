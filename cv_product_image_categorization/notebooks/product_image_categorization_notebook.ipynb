{
 "cells": [
  {
   "cell_type": "markdown",
   "id": "56906e10",
   "metadata": {},
   "source": [
    "# 🛍️ Product Image Categorization\n",
    "Classify e-commerce product images into categories using a CNN model."
   ]
  },
  {
   "cell_type": "markdown",
   "id": "5ed4d540",
   "metadata": {},
   "source": [
    "## 📦 Step 1: Import Required Libraries"
   ]
  },
  {
   "cell_type": "code",
   "execution_count": null,
   "id": "3769efbf",
   "metadata": {},
   "outputs": [],
   "source": [
    "import os\n",
    "import pandas as pd\n",
    "import numpy as np\n",
    "import matplotlib.pyplot as plt\n",
    "from sklearn.model_selection import train_test_split\n",
    "from sklearn.preprocessing import LabelEncoder\n",
    "from sklearn.metrics import classification_report\n",
    "import tensorflow as tf\n",
    "from tensorflow.keras.utils import to_categorical\n",
    "from tensorflow.keras.models import Sequential\n",
    "from tensorflow.keras.layers import Conv2D, MaxPooling2D, Flatten, Dense, Dropout\n",
    "from tensorflow.keras.preprocessing.image import load_img, img_to_array\n",
    "from tensorflow.keras.callbacks import EarlyStopping\n",
    "import pickle\n"
   ]
  },
  {
   "cell_type": "markdown",
   "id": "a94bd694",
   "metadata": {},
   "source": [
    "## 📁 Step 2: Load and Inspect Dataset"
   ]
  },
  {
   "cell_type": "code",
   "execution_count": null,
   "id": "409b4dd1",
   "metadata": {},
   "outputs": [],
   "source": [
    "df = pd.read_csv(\"data/product_labels.csv\")\n",
    "df.head()\n"
   ]
  },
  {
   "cell_type": "markdown",
   "id": "fbb8fb1d",
   "metadata": {},
   "source": [
    "## 🧠 Step 3: Encode Category Labels"
   ]
  },
  {
   "cell_type": "code",
   "execution_count": null,
   "id": "30f3ce1a",
   "metadata": {},
   "outputs": [],
   "source": [
    "le = LabelEncoder()\n",
    "df[\"label_id\"] = le.fit_transform(df[\"product_category\"])\n",
    "with open(\"model/label_encoder.pkl\", \"wb\") as f:\n",
    "    pickle.dump(le, f)\n",
    "df.head()\n"
   ]
  },
  {
   "cell_type": "markdown",
   "id": "311ccdb5",
   "metadata": {},
   "source": [
    "## 🖼️ Step 4: Load and Preprocess Images"
   ]
  },
  {
   "cell_type": "code",
   "execution_count": null,
   "id": "557b2432",
   "metadata": {},
   "outputs": [],
   "source": [
    "IMG_SIZE = (64, 64)\n",
    "images = []\n",
    "labels = df[\"label_id\"].values\n",
    "\n",
    "for path in df[\"image_path\"]:\n",
    "    img = load_img(path, target_size=IMG_SIZE)\n",
    "    img_array = img_to_array(img) / 255.0\n",
    "    images.append(img_array)\n",
    "\n",
    "X = np.array(images)\n",
    "y = to_categorical(labels)\n",
    "X.shape, y.shape\n"
   ]
  },
  {
   "cell_type": "markdown",
   "id": "7a9067cc",
   "metadata": {},
   "source": [
    "## ✂️ Step 5: Split Dataset"
   ]
  },
  {
   "cell_type": "code",
   "execution_count": null,
   "id": "6b51e2a0",
   "metadata": {},
   "outputs": [],
   "source": [
    "X_train, X_val, y_train, y_val = train_test_split(X, y, stratify=y, test_size=0.2, random_state=42)\n"
   ]
  },
  {
   "cell_type": "markdown",
   "id": "7768d7cb",
   "metadata": {},
   "source": [
    "## 🏗️ Step 6: Build CNN Model"
   ]
  },
  {
   "cell_type": "code",
   "execution_count": null,
   "id": "f3303356",
   "metadata": {},
   "outputs": [],
   "source": [
    "model = Sequential([\n",
    "    Conv2D(32, (3,3), activation='relu', input_shape=(64, 64, 3)),\n",
    "    MaxPooling2D(2,2),\n",
    "    Conv2D(64, (3,3), activation='relu'),\n",
    "    MaxPooling2D(2,2),\n",
    "    Flatten(),\n",
    "    Dense(128, activation='relu'),\n",
    "    Dropout(0.5),\n",
    "    Dense(y.shape[1], activation='softmax')\n",
    "])\n",
    "model.compile(optimizer='adam', loss='categorical_crossentropy', metrics=['accuracy'])\n",
    "model.summary()\n"
   ]
  },
  {
   "cell_type": "markdown",
   "id": "7472681e",
   "metadata": {},
   "source": [
    "## 🚀 Step 7: Train the CNN Model"
   ]
  },
  {
   "cell_type": "code",
   "execution_count": null,
   "id": "30caa446",
   "metadata": {},
   "outputs": [],
   "source": [
    "early_stop = EarlyStopping(patience=3, restore_best_weights=True)\n",
    "history = model.fit(X_train, y_train, validation_data=(X_val, y_val), epochs=10, batch_size=8, callbacks=[early_stop])\n"
   ]
  },
  {
   "cell_type": "markdown",
   "id": "59e0fdc1",
   "metadata": {},
   "source": [
    "## 📊 Step 8: Evaluate the Model"
   ]
  },
  {
   "cell_type": "code",
   "execution_count": null,
   "id": "83fc9803",
   "metadata": {},
   "outputs": [],
   "source": [
    "y_pred = model.predict(X_val)\n",
    "y_pred_classes = np.argmax(y_pred, axis=1)\n",
    "y_true = np.argmax(y_val, axis=1)\n",
    "\n",
    "print(classification_report(y_true, y_pred_classes, target_names=le.classes_))\n"
   ]
  },
  {
   "cell_type": "markdown",
   "id": "9e68949e",
   "metadata": {},
   "source": [
    "## 💾 Step 9: Save the Model"
   ]
  },
  {
   "cell_type": "code",
   "execution_count": null,
   "id": "96da0c31",
   "metadata": {},
   "outputs": [],
   "source": [
    "os.makedirs(\"model\", exist_ok=True)\n",
    "model.save(\"model/product_cnn_model.h5\")\n"
   ]
  }
 ],
 "metadata": {},
 "nbformat": 4,
 "nbformat_minor": 5
}
