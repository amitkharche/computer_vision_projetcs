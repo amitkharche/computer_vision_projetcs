{
 "cells": [
  {
   "cell_type": "markdown",
   "id": "2c8f6d0a",
   "metadata": {},
   "source": [
    "# 😊 Facial Emotion Recognition with CNN\n",
    "A complete walkthrough for classifying facial emotions using deep learning."
   ]
  },
  {
   "cell_type": "markdown",
   "id": "6a08bdd1",
   "metadata": {},
   "source": [
    "## 📦 Step 1: Import Required Libraries"
   ]
  },
  {
   "cell_type": "code",
   "execution_count": null,
   "id": "95d906e8",
   "metadata": {},
   "outputs": [],
   "source": [
    "import os\n",
    "import pandas as pd\n",
    "import numpy as np\n",
    "import matplotlib.pyplot as plt\n",
    "import seaborn as sns\n",
    "import tensorflow as tf\n",
    "from sklearn.model_selection import train_test_split\n",
    "from sklearn.preprocessing import LabelEncoder\n",
    "from sklearn.metrics import classification_report\n",
    "from tensorflow.keras.utils import to_categorical\n",
    "from tensorflow.keras.models import Sequential\n",
    "from tensorflow.keras.layers import Conv2D, MaxPooling2D, Flatten, Dense, Dropout\n",
    "from tensorflow.keras.preprocessing.image import load_img, img_to_array\n",
    "from tensorflow.keras.callbacks import EarlyStopping\n",
    "import pickle\n"
   ]
  },
  {
   "cell_type": "markdown",
   "id": "d958a909",
   "metadata": {},
   "source": [
    "## 📁 Step 2: Load Dataset\n",
    "We load `fer_labels.csv` which contains the image paths and emotion labels."
   ]
  },
  {
   "cell_type": "code",
   "execution_count": null,
   "id": "98836692",
   "metadata": {},
   "outputs": [],
   "source": [
    "df = pd.read_csv(\"data/fer_labels.csv\")\n",
    "df.head()\n"
   ]
  },
  {
   "cell_type": "markdown",
   "id": "e289f564",
   "metadata": {},
   "source": [
    "## 🧠 Step 3: Encode Emotion Labels\n",
    "We convert emotion strings to numeric labels using LabelEncoder."
   ]
  },
  {
   "cell_type": "code",
   "execution_count": null,
   "id": "1e9cd820",
   "metadata": {},
   "outputs": [],
   "source": [
    "le = LabelEncoder()\n",
    "df[\"emotion_label\"] = le.fit_transform(df[\"emotion\"])\n",
    "with open(\"model/label_encoder.pkl\", \"wb\") as f:\n",
    "    pickle.dump(le, f)\n",
    "df.head()\n"
   ]
  },
  {
   "cell_type": "markdown",
   "id": "4779fab0",
   "metadata": {},
   "source": [
    "## 🖼️ Step 4: Load and Preprocess Images\n",
    "Images are resized to 48x48 and normalized."
   ]
  },
  {
   "cell_type": "code",
   "execution_count": null,
   "id": "b07b9a52",
   "metadata": {},
   "outputs": [],
   "source": [
    "IMG_SIZE = (48, 48)\n",
    "images = []\n",
    "labels = df[\"emotion_label\"].values\n",
    "\n",
    "for path in df[\"image_path\"]:\n",
    "    img = load_img(path, target_size=IMG_SIZE)\n",
    "    img_array = img_to_array(img) / 255.0\n",
    "    images.append(img_array)\n",
    "\n",
    "X = np.array(images)\n",
    "y = to_categorical(labels)\n",
    "X.shape, y.shape\n"
   ]
  },
  {
   "cell_type": "markdown",
   "id": "145a91d4",
   "metadata": {},
   "source": [
    "## ✂️ Step 5: Split Data into Train and Validation Sets"
   ]
  },
  {
   "cell_type": "code",
   "execution_count": null,
   "id": "8d6e583a",
   "metadata": {},
   "outputs": [],
   "source": [
    "X_train, X_val, y_train, y_val = train_test_split(X, y, stratify=y, test_size=0.2, random_state=42)\n"
   ]
  },
  {
   "cell_type": "markdown",
   "id": "7a791563",
   "metadata": {},
   "source": [
    "## 🏗️ Step 6: Build CNN Model"
   ]
  },
  {
   "cell_type": "code",
   "execution_count": null,
   "id": "25c9f2f3",
   "metadata": {},
   "outputs": [],
   "source": [
    "model = Sequential([\n",
    "    Conv2D(32, (3, 3), activation='relu', input_shape=(48, 48, 3)),\n",
    "    MaxPooling2D(2, 2),\n",
    "    Conv2D(64, (3, 3), activation='relu'),\n",
    "    MaxPooling2D(2, 2),\n",
    "    Flatten(),\n",
    "    Dense(128, activation='relu'),\n",
    "    Dropout(0.5),\n",
    "    Dense(y.shape[1], activation='softmax')\n",
    "])\n",
    "\n",
    "model.compile(optimizer='adam', loss='categorical_crossentropy', metrics=['accuracy'])\n",
    "model.summary()\n"
   ]
  },
  {
   "cell_type": "markdown",
   "id": "315e0538",
   "metadata": {},
   "source": [
    "## 🚀 Step 7: Train the Model"
   ]
  },
  {
   "cell_type": "code",
   "execution_count": null,
   "id": "dda29abc",
   "metadata": {},
   "outputs": [],
   "source": [
    "early_stop = EarlyStopping(patience=3, restore_best_weights=True)\n",
    "history = model.fit(X_train, y_train, validation_data=(X_val, y_val), epochs=10, batch_size=8, callbacks=[early_stop])\n"
   ]
  },
  {
   "cell_type": "markdown",
   "id": "e3d21986",
   "metadata": {},
   "source": [
    "## 📊 Step 8: Evaluate the Model"
   ]
  },
  {
   "cell_type": "code",
   "execution_count": null,
   "id": "67aa6146",
   "metadata": {},
   "outputs": [],
   "source": [
    "y_pred = model.predict(X_val)\n",
    "y_pred_classes = np.argmax(y_pred, axis=1)\n",
    "y_true = np.argmax(y_val, axis=1)\n",
    "\n",
    "print(classification_report(y_true, y_pred_classes, target_names=le.classes_))\n"
   ]
  },
  {
   "cell_type": "markdown",
   "id": "9d3e3dc3",
   "metadata": {},
   "source": [
    "## 💾 Step 9: Save the Model"
   ]
  },
  {
   "cell_type": "code",
   "execution_count": null,
   "id": "6b40f0a0",
   "metadata": {},
   "outputs": [],
   "source": [
    "os.makedirs(\"model\", exist_ok=True)\n",
    "model.save(\"model/emotion_cnn_model.h5\")\n"
   ]
  }
 ],
 "metadata": {},
 "nbformat": 4,
 "nbformat_minor": 5
}
